{
 "cells": [
  {
   "cell_type": "code",
   "execution_count": 14,
   "outputs": [
    {
     "data": {
      "text/plain": "    Invoice ID Branch       City Customer type  Gender  \\\n0  750-67-8428      A     Yangon        Member  Female   \n1  226-31-3081      C  Naypyitaw        Normal  Female   \n2  631-41-3108      A     Yangon        Normal    Male   \n3  123-19-1176      A     Yangon        Member    Male   \n4  373-73-7910      A     Yangon        Normal    Male   \n\n             Product line  Unit price  Quantity   Tax 5%     Total       Date  \\\n0       Health and beauty       74.69         7  26.1415  548.9715   1/5/2019   \n1  Electronic accessories       15.28         5   3.8200   80.2200   3/8/2019   \n2      Home and lifestyle       46.33         7  16.2155  340.5255   3/3/2019   \n3       Health and beauty       58.22         8  23.2880  489.0480  1/27/2019   \n4       Sports and travel       86.31         7  30.2085  634.3785   2/8/2019   \n\n    Time      Payment    cogs  gross margin percentage  gross income  Rating  \n0  13:08      Ewallet  522.83                 4.761905       26.1415     9.1  \n1  10:29         Cash   76.40                 4.761905        3.8200     9.6  \n2  13:23  Credit card  324.31                 4.761905       16.2155     7.4  \n3  20:33      Ewallet  465.76                 4.761905       23.2880     8.4  \n4  10:37      Ewallet  604.17                 4.761905       30.2085     5.3  ",
      "text/html": "<div>\n<style scoped>\n    .dataframe tbody tr th:only-of-type {\n        vertical-align: middle;\n    }\n\n    .dataframe tbody tr th {\n        vertical-align: top;\n    }\n\n    .dataframe thead th {\n        text-align: right;\n    }\n</style>\n<table border=\"1\" class=\"dataframe\">\n  <thead>\n    <tr style=\"text-align: right;\">\n      <th></th>\n      <th>Invoice ID</th>\n      <th>Branch</th>\n      <th>City</th>\n      <th>Customer type</th>\n      <th>Gender</th>\n      <th>Product line</th>\n      <th>Unit price</th>\n      <th>Quantity</th>\n      <th>Tax 5%</th>\n      <th>Total</th>\n      <th>Date</th>\n      <th>Time</th>\n      <th>Payment</th>\n      <th>cogs</th>\n      <th>gross margin percentage</th>\n      <th>gross income</th>\n      <th>Rating</th>\n    </tr>\n  </thead>\n  <tbody>\n    <tr>\n      <th>0</th>\n      <td>750-67-8428</td>\n      <td>A</td>\n      <td>Yangon</td>\n      <td>Member</td>\n      <td>Female</td>\n      <td>Health and beauty</td>\n      <td>74.69</td>\n      <td>7</td>\n      <td>26.1415</td>\n      <td>548.9715</td>\n      <td>1/5/2019</td>\n      <td>13:08</td>\n      <td>Ewallet</td>\n      <td>522.83</td>\n      <td>4.761905</td>\n      <td>26.1415</td>\n      <td>9.1</td>\n    </tr>\n    <tr>\n      <th>1</th>\n      <td>226-31-3081</td>\n      <td>C</td>\n      <td>Naypyitaw</td>\n      <td>Normal</td>\n      <td>Female</td>\n      <td>Electronic accessories</td>\n      <td>15.28</td>\n      <td>5</td>\n      <td>3.8200</td>\n      <td>80.2200</td>\n      <td>3/8/2019</td>\n      <td>10:29</td>\n      <td>Cash</td>\n      <td>76.40</td>\n      <td>4.761905</td>\n      <td>3.8200</td>\n      <td>9.6</td>\n    </tr>\n    <tr>\n      <th>2</th>\n      <td>631-41-3108</td>\n      <td>A</td>\n      <td>Yangon</td>\n      <td>Normal</td>\n      <td>Male</td>\n      <td>Home and lifestyle</td>\n      <td>46.33</td>\n      <td>7</td>\n      <td>16.2155</td>\n      <td>340.5255</td>\n      <td>3/3/2019</td>\n      <td>13:23</td>\n      <td>Credit card</td>\n      <td>324.31</td>\n      <td>4.761905</td>\n      <td>16.2155</td>\n      <td>7.4</td>\n    </tr>\n    <tr>\n      <th>3</th>\n      <td>123-19-1176</td>\n      <td>A</td>\n      <td>Yangon</td>\n      <td>Member</td>\n      <td>Male</td>\n      <td>Health and beauty</td>\n      <td>58.22</td>\n      <td>8</td>\n      <td>23.2880</td>\n      <td>489.0480</td>\n      <td>1/27/2019</td>\n      <td>20:33</td>\n      <td>Ewallet</td>\n      <td>465.76</td>\n      <td>4.761905</td>\n      <td>23.2880</td>\n      <td>8.4</td>\n    </tr>\n    <tr>\n      <th>4</th>\n      <td>373-73-7910</td>\n      <td>A</td>\n      <td>Yangon</td>\n      <td>Normal</td>\n      <td>Male</td>\n      <td>Sports and travel</td>\n      <td>86.31</td>\n      <td>7</td>\n      <td>30.2085</td>\n      <td>634.3785</td>\n      <td>2/8/2019</td>\n      <td>10:37</td>\n      <td>Ewallet</td>\n      <td>604.17</td>\n      <td>4.761905</td>\n      <td>30.2085</td>\n      <td>5.3</td>\n    </tr>\n  </tbody>\n</table>\n</div>"
     },
     "execution_count": 14,
     "metadata": {},
     "output_type": "execute_result"
    }
   ],
   "source": [
    "import pandas as pd\n",
    "import matplotlib.pyplot as plt\n",
    "import seaborn as sns\n",
    "from matplotlib.axes import Axes\n",
    "import numpy as np\n",
    "\n",
    "df = pd.read_csv('../input/supermarket-sales/supermarket_sales - Sheet1.csv')\n",
    "df.head()"
   ],
   "metadata": {
    "collapsed": false,
    "pycharm": {
     "name": "#%%\n"
    }
   }
  },
  {
   "cell_type": "markdown",
   "source": [
    "## Most Popular Payment Method"
   ],
   "metadata": {
    "collapsed": false,
    "pycharm": {
     "name": "#%% md\n"
    }
   }
  },
  {
   "cell_type": "code",
   "execution_count": 15,
   "outputs": [
    {
     "data": {
      "text/plain": "<Figure size 432x288 with 1 Axes>",
      "image/png": "[encoded data removed]"
     },
     "metadata": {},
     "output_type": "display_data"
    }
   ],
   "source": [
    "payment_method_counts = df['Payment'].value_counts()\n",
    "plot: Axes = sns.barplot(x=payment_method_counts.index, y=payment_method_counts.values)\n",
    "plot.set_title('Frequency of Payment Methods')\n",
    "plot.set_xlabel('Payment Methods')\n",
    "plot.set_ylabel('Number of Purchases')\n",
    "plt.show()"
   ],
   "metadata": {
    "collapsed": false,
    "pycharm": {
     "name": "#%%\n"
    }
   }
  },
  {
   "cell_type": "markdown",
   "source": [
    "It seems that e-wallet is the most popular payment method, followed closely by cash, with credit card being the least popular payment method."
   ],
   "metadata": {
    "collapsed": false,
    "pycharm": {
     "name": "#%% md\n"
    }
   }
  },
  {
   "cell_type": "markdown",
   "source": [
    "## Popularity of Product Lines by Gender"
   ],
   "metadata": {
    "collapsed": false,
    "pycharm": {
     "name": "#%% md\n"
    }
   }
  },
  {
   "cell_type": "code",
   "execution_count": 16,
   "outputs": [
    {
     "data": {
      "text/plain": "Gender                  Female  Male\nProduct line                        \nElectronic accessories      84    86\nFashion accessories         96    82\nFood and beverages          90    84\nHealth and beauty           64    88\nHome and lifestyle          79    81\nSports and travel           88    78",
      "text/html": "<div>\n<style scoped>\n    .dataframe tbody tr th:only-of-type {\n        vertical-align: middle;\n    }\n\n    .dataframe tbody tr th {\n        vertical-align: top;\n    }\n\n    .dataframe thead th {\n        text-align: right;\n    }\n</style>\n<table border=\"1\" class=\"dataframe\">\n  <thead>\n    <tr style=\"text-align: right;\">\n      <th>Gender</th>\n      <th>Female</th>\n      <th>Male</th>\n    </tr>\n    <tr>\n      <th>Product line</th>\n      <th></th>\n      <th></th>\n    </tr>\n  </thead>\n  <tbody>\n    <tr>\n      <th>Electronic accessories</th>\n      <td>84</td>\n      <td>86</td>\n    </tr>\n    <tr>\n      <th>Fashion accessories</th>\n      <td>96</td>\n      <td>82</td>\n    </tr>\n    <tr>\n      <th>Food and beverages</th>\n      <td>90</td>\n      <td>84</td>\n    </tr>\n    <tr>\n      <th>Health and beauty</th>\n      <td>64</td>\n      <td>88</td>\n    </tr>\n    <tr>\n      <th>Home and lifestyle</th>\n      <td>79</td>\n      <td>81</td>\n    </tr>\n    <tr>\n      <th>Sports and travel</th>\n      <td>88</td>\n      <td>78</td>\n    </tr>\n  </tbody>\n</table>\n</div>"
     },
     "execution_count": 16,
     "metadata": {},
     "output_type": "execute_result"
    }
   ],
   "source": [
    "data = df[['Product line', 'Gender']]\n",
    "pd.pivot_table(data=data, index='Product line', columns='Gender', aggfunc=len)"
   ],
   "metadata": {
    "collapsed": false,
    "pycharm": {
     "name": "#%%\n"
    }
   }
  },
  {
   "cell_type": "markdown",
   "source": [
    "With this pivot table, we can see that the product lines that males are most interested in are \"health and beauty\" related and females are most interested in fashion accessories."
   ],
   "metadata": {
    "collapsed": false,
    "pycharm": {
     "name": "#%% md\n"
    }
   }
  }
 ],
 "metadata": {
  "kernelspec": {
   "display_name": "Python 3",
   "language": "python",
   "name": "python3"
  },
  "language_info": {
   "codemirror_mode": {
    "name": "ipython",
    "version": 2
   },
   "file_extension": ".py",
   "mimetype": "text/x-python",
   "name": "python",
   "nbconvert_exporter": "python",
   "pygments_lexer": "ipython2",
   "version": "2.7.6"
  }
 },
 "nbformat": 4,
 "nbformat_minor": 0
}